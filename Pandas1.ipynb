{
 "cells": [
  {
   "cell_type": "code",
   "execution_count": 2,
   "metadata": {},
   "outputs": [
    {
     "name": "stdout",
     "output_type": "stream",
     "text": [
      "x:\n",
      "[[ 1  2  3]\n",
      " [ 4  5  6]\n",
      " [ 7  8  9]\n",
      " [10 11 12]]\n",
      "\n",
      "x[1:, :-1]:\n",
      "[[ 4  5]\n",
      " [ 7  8]\n",
      " [10 11]]\n"
     ]
    }
   ],
   "source": [
    "import numpy as np\n",
    "x = np.array([[1,2,3], [4,5,6], [7, 8, 9], [10, 11, 12]])\n",
    "print(\"x:\")\n",
    "print(x)\n",
    "print(\"\\nx[1:, :-1]:\")\n",
    "print(x[1:, :-1])"
   ]
  },
  {
   "cell_type": "code",
   "execution_count": 3,
   "metadata": {},
   "outputs": [
    {
     "name": "stdout",
     "output_type": "stream",
     "text": [
      "Index(['name', 'score'], dtype='object')\n",
      "       name  score\n",
      "0     james    4.0\n",
      "1  theodore    3.0\n",
      "2      jane    2.0\n",
      "3     maria    5.0\n"
     ]
    }
   ],
   "source": [
    "import pandas as pd\n",
    "d = {'name': [\"james\", \"theodore\", \"jane\", \"maria\"], \n",
    "     'score': [4., 3., 2., 5.]}\n",
    "df = pd.DataFrame(d)\n",
    "print(df.columns)\n",
    "print(df)"
   ]
  }
 ],
 "metadata": {
  "kernelspec": {
   "display_name": "Python 3",
   "language": "python",
   "name": "python3"
  },
  "language_info": {
   "codemirror_mode": {
    "name": "ipython",
    "version": 3
   },
   "file_extension": ".py",
   "mimetype": "text/x-python",
   "name": "python",
   "nbconvert_exporter": "python",
   "pygments_lexer": "ipython3",
   "version": "3.13.0"
  }
 },
 "nbformat": 4,
 "nbformat_minor": 2
}
